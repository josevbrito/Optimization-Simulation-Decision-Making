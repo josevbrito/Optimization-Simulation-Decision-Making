{
  "nbformat": 4,
  "nbformat_minor": 0,
  "metadata": {
    "colab": {
      "provenance": []
    },
    "kernelspec": {
      "name": "python3",
      "display_name": "Python 3"
    },
    "language_info": {
      "name": "python"
    }
  },
  "cells": [
    {
      "cell_type": "markdown",
      "source": [
        "\n",
        "# Estudo do Problema da Dieta\n",
        "\n",
        "### Autor: José Brito\n",
        "\n",
        "### Introdução\n",
        "\n",
        "Neste estudo, vamos explorar a formulação de um problema de dieta utilizando AMPL. Nosso objetivo é determinar a quantidade ótima de alimentos a serem consumidos para minimizar o custo total, atendendo às restrições nutricionais fornecidas. O problema será dividido em duas partes: o modelo (`diet.mod`) e os dados (`diet.dat`).\n",
        "\n",
        "### Tabela de Alimentos\n",
        "\n",
        "A tabela abaixo descreve os alimentos que serão considerados no modelo, juntamente com suas propriedades nutricionais e preços.\n",
        "\n",
        "A tabela foi tirada do dataset disponível em: [dataset no Kaggle](https://www.kaggle.com/datasets/omsaraksa/diet-for-linear-programing2020?select=Diet_KSA_2020+%281%29.csv)\n",
        "\n",
        "| Index | Nome            | Máx. Porções | Tamanho (g) | Energia (cal) | Proteína (g) | Cálcio (mg) | Magnésio (mg) | Vitamina C (mg) | Ferro (mg) | Preço (R$)  |\n",
        "|-------|-----------------|--------------|-------------|---------------|--------------|-------------|---------------|-----------------|------------|-------------|\n",
        "| 0     | Oatmeal         | 4            | 28          | 110           | 4            | 2           | 26            | 0               | 6          | 10.57       |\n",
        "| 1     | Chicken         | 3            | 100         | 205           | 32           | 12          | 1.2           | 2               | 1.3        | 16.25       |\n",
        "| 2     | Eggs            | 2            | 2           | 160           | 13           | 54          | 10            | 0               | 1.2        | 1.6         |\n",
        "| 3     | Whole Milk      | 8            | 237         | 160           | 8            | 285         | 0             | 0               | 11         | 8           |\n",
        "| 4     | Cherry pie      | 2            | 170         | 420           | 4            | 22          | 9             | 1               | 1.9        | 25          |\n",
        "| 5     | Pork with beans | 2            | 206         | 260           | 14           | 80          | 31            | 0.6             | 0.8        | 4           |\n",
        "| 6     | Yogurt          | 3            | 3           | 58            | 10           | 110         | 11            | 0.1             | 0.1        | 10          |\n",
        "| 7     | Rice            | 5            | 30          | 500           | 9.4          | 28          | 25            | 0.01            | 0.8        | 8.9         |\n",
        "| 8     | Meat            | 6            | 143         | 143           | 26           | 6           | 29            | 0               | 1.2        | 40          |\n",
        "| 9     | Potato          | 5            | 54          | 323           | 2            | 12          | 28            | 19              | 0.78       | 3.29        |\n"
      ],
      "metadata": {
        "id": "8Cryu042eqOp"
      }
    },
    {
      "cell_type": "code",
      "execution_count": null,
      "metadata": {
        "colab": {
          "base_uri": "https://localhost:8080/"
        },
        "id": "d9RR0mOKXEGn",
        "outputId": "e32c8d09-29d4-43f4-e1a2-272efa9fade9"
      },
      "outputs": [
        {
          "output_type": "stream",
          "name": "stdout",
          "text": [
            "Using default Community Edition License for Colab. Get yours at: https://ampl.com/ce\n",
            "Licensed to AMPL Community Edition License for the AMPL Model Colaboratory (https://ampl.com/colab).\n"
          ]
        }
      ],
      "source": [
        "# Instalando as dependências\n",
        "%pip install -q amplpy\n",
        "\n",
        "from amplpy import AMPL, ampl_notebook\n",
        "\n",
        "ampl = ampl_notebook(\n",
        "    modules=[\"coin\"],\n",
        "    license_uuid=\"default\",\n",
        ")"
      ]
    },
    {
      "cell_type": "markdown",
      "source": [],
      "metadata": {
        "id": "UUciL724m7OO"
      }
    },
    {
      "cell_type": "markdown",
      "source": [
        "### Explicação do Modelo\n",
        "\n",
        "O objetivo é minimizar o custo total dos alimentos, garantindo que as necessidades nutricionais sejam atendidas. A função objetivo é dada por:\n",
        "\n",
        "$$\n",
        "\\text{Minimizar custo_total} = \\sum_{j \\in \\text{alimento}} \\text{preco}[j] \\times \\text{Compra}[j]\n",
        "$$\n",
        "\n",
        "Onde:\n",
        "- **preco[j]** é o preço do alimento \\(j\\).\n",
        "- **Compra[j]** é a quantidade do alimento \\(j\\) a ser comprada.\n",
        "\n",
        "As restrições garantem que a ingestão total de cada nutriente esteja dentro dos limites especificados:\n",
        "\n",
        "$$\n",
        "\\text{n_min}[i] \\leq \\sum_{j \\in \\text{alimento}} \\text{nutritente}[i][j] \\times \\text{Compra}[j] \\leq \\text{n_max}[i]\n",
        "$$\n",
        "\n",
        "Para cada nutriente \\(i\\) (energia, proteína, cálcio, magnésio, vitamina C), onde:\n",
        "- **nutriente[i][j]** é a quantidade do nutriente \\(i\\) no alimento \\(j\\).\n",
        "- **n\\_min[i]** é o limite mínimo para o nutriente \\(i\\).\n",
        "- **n\\_max[i]** é o limite máximo para o nutriente \\(i\\)."
      ],
      "metadata": {
        "id": "g9Fe1ObVq9Ml"
      }
    },
    {
      "cell_type": "code",
      "source": [
        "%%writefile dieta.mod\n",
        "# Definição do conjunto de alimentos\n",
        "set ALIMENTO;\n",
        "\n",
        "# Parâmetros dos alimentos\n",
        "param max_porcoes{ALIMENTO};  # Quantidade máxima permitida de cada alimento\n",
        "param tamanho{ALIMENTO};      # Tamanho da porção (em gramas ou mL)\n",
        "param energia{ALIMENTO};      # Energia (kcal)\n",
        "param proteina{ALIMENTO};     # Proteína (g)\n",
        "param calcio{ALIMENTO};       # Cálcio (mg)\n",
        "param magnesio{ALIMENTO};     # Magnésio (mg)\n",
        "param vitaminaC{ALIMENTO};    # Vitamina C (mg)\n",
        "param ferro{ALIMENTO};        # Ferro (mg)\n",
        "param preco{ALIMENTO};        # Preço (unidade monetária)\n",
        "\n",
        "# Limites mínimos e máximos para nutrientes\n",
        "param n_min{1..5};  # Valores mínimos recomendados\n",
        "param n_max{1..5};  # Valores máximos permitidos\n",
        "\n",
        "# Variáveis de decisão\n",
        "var Compra{j in ALIMENTO} integer >= 0, <= max_porcoes[j];\n",
        "\n",
        "# Função objetivo: minimizar o custo total da dieta\n",
        "minimize Custo_Total: sum{j in ALIMENTO} preco[j] * Compra[j];\n",
        "\n",
        "# Restrições de nutrientes\n",
        "subject to Energia:   n_min[1] <= sum{j in ALIMENTO} energia[j] * Compra[j]   <= n_max[1];\n",
        "subject to Proteina:  n_min[2] <= sum{j in ALIMENTO} proteina[j] * Compra[j]  <= n_max[2];\n",
        "subject to Calcio:    n_min[3] <= sum{j in ALIMENTO} calcio[j] * Compra[j]    <= n_max[3];\n",
        "subject to Magnesio:  n_min[4] <= sum{j in ALIMENTO} magnesio[j] * Compra[j]  <= n_max[4];\n",
        "subject to VitaminaC: n_min[5] <= sum{j in ALIMENTO} vitaminaC[j] * Compra[j] <= n_max[5];\n"
      ],
      "metadata": {
        "colab": {
          "base_uri": "https://localhost:8080/"
        },
        "id": "_l8qONBMznLS",
        "outputId": "5432f363-7b88-4368-810e-5b00cd8bf2bc"
      },
      "execution_count": null,
      "outputs": [
        {
          "output_type": "stream",
          "name": "stdout",
          "text": [
            "Overwriting dieta.mod\n"
          ]
        }
      ]
    },
    {
      "cell_type": "code",
      "source": [
        "%%writefile dieta.dat\n",
        "# Definição do conjunto de alimentos\n",
        "set ALIMENTO := Aveia Frango Ovos Leite_Integral Torta_de_Cereja Feijao_com_Carne Iogurte Arroz Carne Batata;\n",
        "\n",
        "# Parâmetros dos alimentos\n",
        "param: max_porcoes tamanho energia proteina calcio magnesio vitaminaC ferro preco :=\n",
        "Aveia               4 28 110  4  2 26  0 6 10.57\n",
        "Frango              3 100 205 32 12 1.2 2 1.3 16.25\n",
        "Ovos                2 2 160 13 54 10  0 1.2 1.6\n",
        "Leite_Integral      8 237 160 8 285 0  0 11 8\n",
        "Torta_de_Cereja     2 170 420 4  22 9  1 1.9 25\n",
        "Feijao_com_Carne    2 206 260 14 80 31  0.6 0.8 4\n",
        "Iogurte             3 3 58 10 110 11  0.1 0.1 10\n",
        "Arroz               5 30 500 9.4 28 25  0.01 0.8 8.9\n",
        "Carne               6 143 143 26 6 29  0 1.2 40\n",
        "Batata              5 54 323 2  12 28  19 0.78 3.29;\n",
        "\n",
        "# Limites mínimos e máximos para nutrientes\n",
        "param n_min :=\n",
        "1 2500  # Energia mínima (kcal) - baseado na média para um homem adulto ativo\n",
        "2 56    # Proteína mínima (g) - recomendação padrão para um homem adulto\n",
        "3 1000  # Cálcio mínimo (mg) - essencial para a saúde óssea\n",
        "4 400   # Magnésio mínimo (mg) - para funções musculares e nervosas\n",
        "5 90;   # Vitamina C mínima (mg) - para imunidade e saúde celular\n",
        "\n",
        "param n_max :=\n",
        "1 3000  # Energia máxima (kcal) - valor superior para alta atividade física\n",
        "2 100   # Proteína máxima (g) - limite seguro para consumo elevado\n",
        "3 1300  # Cálcio máximo (mg) - acima disso pode aumentar risco de cálculos renais\n",
        "4 420   # Magnésio máximo (mg) - baseado na ingestão diária recomendada\n",
        "5 200;  # Vitamina C máxima (mg) - acima disso pode causar efeitos colaterais leves\n"
      ],
      "metadata": {
        "colab": {
          "base_uri": "https://localhost:8080/"
        },
        "id": "7IEe9v9sxPen",
        "outputId": "e8e10847-427d-45aa-bac9-bd8327ddbfbb"
      },
      "execution_count": null,
      "outputs": [
        {
          "output_type": "stream",
          "name": "stdout",
          "text": [
            "Overwriting dieta.dat\n"
          ]
        }
      ]
    },
    {
      "cell_type": "code",
      "source": [
        "%%ampl_eval\n",
        "reset;\n",
        "model dieta.mod;\n",
        "data dieta.dat;\n",
        "option solver cbc;\n",
        "solve;\n",
        "display Compra;"
      ],
      "metadata": {
        "colab": {
          "base_uri": "https://localhost:8080/"
        },
        "id": "Ft_C1-zN09iy",
        "outputId": "dd93dd3f-76a0-432a-f03b-ea482d740dbb"
      },
      "execution_count": null,
      "outputs": [
        {
          "output_type": "stream",
          "name": "stdout",
          "text": [
            "cbc 2.10.12: \b\b\b\b\b\b\b\b\b\b\b\b\bcbc 2.10.12: infeasible problem\n",
            "0 simplex iterations\n",
            "absmipgap=1.79769e+308, relmipgap=1\n",
            "Compra [*] :=\n",
            "           Arroz    1.65177\n",
            "           Aveia    4\n",
            "          Batata    5\n",
            "           Carne    4.45169\n",
            "Feijao_com_Carne    2\n",
            "          Frango    0\n",
            "         Iogurte    3\n",
            "  Leite_Integral    3.36759\n",
            "            Ovos  -10.9393\n",
            " Torta_de_Cereja    0\n",
            ";\n",
            "\n"
          ]
        }
      ]
    },
    {
      "cell_type": "markdown",
      "source": [
        "O erro ocorreu porque não foi possível encontrar uma solução viável com os parâmetros atuais, resultando na exibição dos últimos valores testados (algo parecido ocorreu no documento que foi alvo do estudo original).\n",
        "\n",
        "Agora, tomaremos as medidas necessárias para ajustar as restrições e os parâmetros, visando encontrar uma solução viável e otimizada."
      ],
      "metadata": {
        "id": "U8MW5LZK7Izl"
      }
    },
    {
      "cell_type": "markdown",
      "source": [
        "As restrições de nutrientes podem estar muito apertadas, o que impede a obtenção de uma solução viável. Por exemplo, o valor de ```n_min``` para energia está muito próximo do valor de ```n_max``` em alguns casos. Pode ser que o modelo esteja tentando consumir alimentos de forma tão específica que é impossível atender a todas as restrições simultaneamente.\n",
        "\n",
        "Agora, vou relaxar um pouco as restrições de nutrientes, aumentando alguns valores de ```n_max``` e diminuindo alguns valores de ```n_min``` para garantir mais flexibilidade."
      ],
      "metadata": {
        "id": "VTLmFFn18s0U"
      }
    },
    {
      "cell_type": "code",
      "source": [
        "%%writefile dieta1.dat\n",
        "# Definição do conjunto de alimentos\n",
        "set ALIMENTO := Aveia Frango Ovos Leite_Integral Torta_de_Cereja Feijao_com_Carne Iogurte Arroz Carne Batata;\n",
        "\n",
        "# Parâmetros dos alimentos\n",
        "param: max_porcoes tamanho energia proteina calcio magnesio vitaminaC ferro preco :=\n",
        "Aveia               4 28 110  4  2 26  0 6 10.57\n",
        "Frango              5 100 205 32 12 1.2 2 1.3 16.25 # Aumentei a quantidade máxima para Frango\n",
        "Ovos                3 2 160 13 54 10  0 1.2 1.6 # Aumentei a quantidade máxima para Ovos\n",
        "Leite_Integral      8 237 160 8 285 0  0 11 8\n",
        "Torta_de_Cereja     2 170 420 4  22 9  1 1.9 25\n",
        "Feijao_com_Carne    3 206 260 14 80 31  0.6 0.8 4 # Aumentei a quantidade máxima para Feijão com Carne\n",
        "Iogurte             4 3 58 10 110 11  0.1 0.1 10 # Aumentei a quantidade máxima para Iogurte\n",
        "Arroz               6 30 500 9.4 28 25  0.01 0.8 8.9 # Aumentei a quantidade máxima para Arroz\n",
        "Carne               6 143 143 26 6 29  0 1.2 40\n",
        "Batata              6 54 323 2  12 28  19 0.78 3.29; # Aumentei a quantidade máxima para Batata\n",
        "\n",
        "# Limites mínimos e máximos para nutrientes\n",
        "param n_min :=\n",
        "1 2200  # Energia mínima (kcal) - reduzi um pouco a exigência de energia\n",
        "2 50    # Proteína mínima (g) - diminui um pouco a quantidade de proteína\n",
        "3 800   # Cálcio mínimo (mg) - reduzi um pouco o mínimo de cálcio\n",
        "4 300   # Magnésio mínimo (mg) - reduzi o mínimo de magnésio\n",
        "5 70;   # Vitamina C mínima (mg) - reduzi o mínimo de vitamina C\n",
        "\n",
        "param n_max :=\n",
        "1 3500  # Energia máxima (kcal) - aumentei a máxima de energia\n",
        "2 200   # Proteína máxima (g) - aumentei o máximo de proteína\n",
        "3 1400  # Cálcio máximo (mg) - aumentei o máximo de cálcio\n",
        "4 500   # Magnésio máximo (mg) - aumentei o máximo de magnésio\n",
        "5 220;  # Vitamina C máxima (mg) - aumentei o máximo de vitamina C\n"
      ],
      "metadata": {
        "colab": {
          "base_uri": "https://localhost:8080/"
        },
        "id": "vsn00-wD7wfG",
        "outputId": "4d59538a-3b55-4514-b3ba-086748553291"
      },
      "execution_count": null,
      "outputs": [
        {
          "output_type": "stream",
          "name": "stdout",
          "text": [
            "Overwriting dieta1.dat\n"
          ]
        }
      ]
    },
    {
      "cell_type": "code",
      "source": [
        "%%ampl_eval\n",
        "reset;\n",
        "model dieta.mod;\n",
        "data dieta1.dat;\n",
        "option solver cbc;\n",
        "solve;\n",
        "display Compra;"
      ],
      "metadata": {
        "colab": {
          "base_uri": "https://localhost:8080/"
        },
        "id": "ukjPH99w-m4K",
        "outputId": "a2c1125e-c1f7-4b2a-de28-bd6fb65a5b42"
      },
      "execution_count": null,
      "outputs": [
        {
          "output_type": "stream",
          "name": "stdout",
          "text": [
            "cbc 2.10.12: \b\b\b\b\b\b\b\b\b\b\b\b\bcbc 2.10.12: optimal solution; objective 54.54\n",
            "0 simplex iterations\n",
            "Compra [*] :=\n",
            "           Arroz  0\n",
            "           Aveia  0\n",
            "          Batata  6\n",
            "           Carne  0\n",
            "Feijao_com_Carne  3\n",
            "          Frango  0\n",
            "         Iogurte  1\n",
            "  Leite_Integral  1\n",
            "            Ovos  3\n",
            " Torta_de_Cereja  0\n",
            ";\n",
            "\n"
          ]
        }
      ]
    },
    {
      "cell_type": "markdown",
      "source": [
        "### *Análise da solução ótima*\n",
        "\n",
        "O modelo agora encontrou uma solução ótima com um custo total de $54.54. Os valores de compra para os alimentos são os seguintes:\n",
        "\n",
        "- Arroz: 0 porções\n",
        "- Aveia: 0 porção\n",
        "- Batata: 6 porções\n",
        "- Carne: 0 porções\n",
        "- Feijão com Carne: 3 porções\n",
        "- Frango: 0 porções\n",
        "- Iogurte: 1 porções\n",
        "- Leite Integral: 1 porção\n",
        "- Ovos: 3 porções\n",
        "- Torta de Cereja: 0 porções\n",
        "\n",
        "Essa solução parece viável e otimizada, pois respeita as restrições de nutrientes e minimiza o custo total da dieta."
      ],
      "metadata": {
        "id": "LqSZlKLf_AeJ"
      }
    },
    {
      "cell_type": "markdown",
      "source": [
        "Embora a solução encontrada seja ótima em termos de custo, ela não é muito diversificada, pois seleciona poucos alimentos (Batata, Feijão com Carne, Iogurte, Leite Integral e Ovos). Isso pode ser um problema dependendo do objetivo da dieta, já que uma alimentação equilibrada e variada é importante para fornecer uma gama completa de nutrientes."
      ],
      "metadata": {
        "id": "asV9JcIc_2vf"
      }
    },
    {
      "cell_type": "markdown",
      "source": [
        "Para aumentar a diversidade de alimentos, fiz duas alterações:\n",
        "- Modificação da função objetivo para incluir uma penalização pela falta de variedade:\n",
        "```\n",
        "# Função objetivo: minimizar o custo total da dieta e penalizar a falta de diversidade\n",
        "minimize Custo_Total:\n",
        "    sum{j in ALIMENTO} preco[j] * Compra[j] + 0.5 * (card(ALIMENTO) - sum{j in ALIMENTO} (Compra[j] > 0));\n",
        "```\n",
        "- Limitar a quantidade máxima de porções de alimentos repetidos:\n",
        "```\n",
        "# Limitação da quantidade máxima de porções de alimentos individuais\n",
        "subject to Max_Porcao_Individual {j in ALIMENTO}:\n",
        "    Compra[j] <= 4;  # Limitando a no máximo 4 porções por alimento\n",
        "\n",
        "```"
      ],
      "metadata": {
        "id": "tcwM1DRJCwD5"
      }
    },
    {
      "cell_type": "code",
      "source": [
        "%%writefile dieta1.mod\n",
        "# Definição do conjunto de alimentos\n",
        "set ALIMENTO;\n",
        "\n",
        "# Parâmetros dos alimentos\n",
        "param max_porcoes{ALIMENTO};  # Quantidade máxima permitida de cada alimento\n",
        "param tamanho{ALIMENTO};      # Tamanho da porção (em gramas ou mL)\n",
        "param energia{ALIMENTO};      # Energia (kcal)\n",
        "param proteina{ALIMENTO};     # Proteína (g)\n",
        "param calcio{ALIMENTO};       # Cálcio (mg)\n",
        "param magnesio{ALIMENTO};     # Magnésio (mg)\n",
        "param vitaminaC{ALIMENTO};    # Vitamina C (mg)\n",
        "param ferro{ALIMENTO};        # Ferro (mg)\n",
        "param preco{ALIMENTO};        # Preço (unidade monetária)\n",
        "\n",
        "# Limites mínimos e máximos para nutrientes\n",
        "param n_min{1..5};  # Valores mínimos recomendados\n",
        "param n_max{1..5};  # Valores máximos permitidos\n",
        "\n",
        "# Variáveis de decisão\n",
        "var Compra{j in ALIMENTO} integer >= 0, <= max_porcoes[j];\n",
        "\n",
        "# Variável auxiliar para indicar se um alimento foi escolhido (1 se foi escolhido, 0 caso contrário)\n",
        "var Escolhido{j in ALIMENTO} binary;\n",
        "\n",
        "# Restrição para ativar Escolhido apenas se Compra[j] for maior que zero\n",
        "subject to Ativa_Escolhido {j in ALIMENTO}:\n",
        "    Compra[j] <= max_porcoes[j] * Escolhido[j];\n",
        "\n",
        "# Função objetivo: minimizar o custo total da dieta, incentivando a diversidade\n",
        "minimize Custo_Total:\n",
        "    sum{j in ALIMENTO} preco[j] * Compra[j]\n",
        "    + 0.5 * (card(ALIMENTO) - sum{j in ALIMENTO} Escolhido[j]);  # Penaliza poucas escolhas\n",
        "\n",
        "# Restrições de nutrientes\n",
        "subject to Energia:   n_min[1] <= sum{j in ALIMENTO} energia[j] * Compra[j]   <= n_max[1];\n",
        "subject to Proteina:  n_min[2] <= sum{j in ALIMENTO} proteina[j] * Compra[j]  <= n_max[2];\n",
        "subject to Calcio:    n_min[3] <= sum{j in ALIMENTO} calcio[j] * Compra[j]    <= n_max[3];\n",
        "subject to Magnesio:  n_min[4] <= sum{j in ALIMENTO} magnesio[j] * Compra[j]  <= n_max[4];\n",
        "subject to VitaminaC: n_min[5] <= sum{j in ALIMENTO} vitaminaC[j] * Compra[j] <= n_max[5];\n",
        "\n",
        "# Restrição para evitar que um único alimento seja dominante (máximo de 4 porções por alimento)\n",
        "subject to Limite_Individual {j in ALIMENTO}:\n",
        "    Compra[j] <= 4;\n"
      ],
      "metadata": {
        "colab": {
          "base_uri": "https://localhost:8080/"
        },
        "id": "s-q6ToZL_-e2",
        "outputId": "3f549080-3824-47b2-fd60-11281de091fa"
      },
      "execution_count": null,
      "outputs": [
        {
          "output_type": "stream",
          "name": "stdout",
          "text": [
            "Overwriting dieta1.mod\n"
          ]
        }
      ]
    },
    {
      "cell_type": "code",
      "source": [
        "%%ampl_eval\n",
        "reset;\n",
        "model dieta1.mod;\n",
        "data dieta1.dat;\n",
        "option solver cbc;\n",
        "solve;\n",
        "display Compra;"
      ],
      "metadata": {
        "colab": {
          "base_uri": "https://localhost:8080/"
        },
        "id": "YkGkjgPREHyN",
        "outputId": "19303dec-0025-470a-afb5-00275d505114"
      },
      "execution_count": null,
      "outputs": [
        {
          "output_type": "stream",
          "name": "stdout",
          "text": [
            "cbc 2.10.12: \b\b\b\b\b\b\b\b\b\b\b\b\bcbc 2.10.12: optimal solution; objective 74.4\n",
            "323 simplex iterations\n",
            "323 barrier iterations\n",
            "Compra [*] :=\n",
            "           Arroz  1\n",
            "           Aveia  2\n",
            "          Batata  4\n",
            "           Carne  0\n",
            "Feijao_com_Carne  3\n",
            "          Frango  0\n",
            "         Iogurte  0\n",
            "  Leite_Integral  2\n",
            "            Ovos  2\n",
            " Torta_de_Cereja  0\n",
            ";\n",
            "\n"
          ]
        }
      ]
    },
    {
      "cell_type": "markdown",
      "source": [
        "### *Análise da solução mais diversificada*\n",
        "\n",
        "#### **Pontos positivos:**\n",
        "- O modelo selecionou mais alimentos do que antes.  \n",
        "- Nenhum alimento está sendo consumido em excesso, respeitando o limite de **4 porções por alimento**.  \n",
        "\n",
        "### **Pontos negativos:**\n",
        "- Alguns alimentos ainda **não foram selecionados** (**Carne, Frango, Iogurte e Torta de Cereja**).  \n",
        "- O consumo de **proteína** está concentrado principalmente no **Feijão com Carne e nos Ovos**, enquanto outras fontes, como **Carne e Frango**, não foram incluídas.\n",
        "- A **diversidade alimentar aumentou**, mas isso afetou diretamente o custo da dieta — houve um acréscimo de **\\$19.86** em relação ao valor ótimo (**\\$54.54 → \\$74.4**).\n"
      ],
      "metadata": {
        "id": "9KLqw0j-FMf_"
      }
    },
    {
      "cell_type": "markdown",
      "source": [
        "### **Tabela Comparativa Solução Ótima x Solução Diversificada**\n",
        "\n",
        "| **Critério**                | **Solução Ótima** | **Solução Diversificada** |\n",
        "|----------------------------|--------------------------------|--------------------------------|\n",
        "| **Quantidade de Alimentos Únicos** | 5  | 6  |\n",
        "| **Interações Simplex**    | 0  | 323  |\n",
        "| **Iterações Barrier**     | 0  | 323  |\n",
        "| **Custo Total**           | **54.54**  | **74.4**  |\n",
        "| **Análise da Solução**    | Menor custo, menor diversidade  | Maior diversidade, custo maior  |\n",
        "\n",
        "\n",
        "### *Legenda dos Critérios*\n",
        "\n",
        "- **Quantidade de Alimentos Únicos**: Número total de alimentos distintos selecionados na solução final.\n",
        "- **Interações Simplex**: Quantidade de iterações realizadas pelo método Simplex, um algoritmo usado para resolver problemas de otimização linear.\n",
        "- **Iterações Barrier**: Número de iterações feitas pelo método Barrier, uma abordagem usada para resolver otimizações com restrições.\n",
        "- **Custo Total**: Valor total da dieta considerando os preços dos alimentos escolhidos.\n",
        "- **Análise da Solução**: Comparação qualitativa entre as duas soluções, destacando vantagens e desvantagens de cada abordagem.\n",
        "\n",
        "### **Conclusão**\n",
        "\n",
        "A escolha entre as duas soluções depende do objetivo: se a prioridade for minimizar custos, a Solução Ótima é preferível. Porém, se for desejável um cardápio mais variado e equilibrado, a Solução Diversificada pode ser a melhor opção, desde que o custo adicional seja aceitável. Pessoalmente, eu preferiria a *Solução Ótima*, pois é mais barata, tem menos custo operacional e diversidade alimentar é apenas um alimento a menos."
      ],
      "metadata": {
        "id": "aHK6exJciotv"
      }
    }
  ]
}