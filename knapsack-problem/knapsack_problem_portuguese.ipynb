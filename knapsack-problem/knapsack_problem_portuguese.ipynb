{
  "nbformat": 4,
  "nbformat_minor": 0,
  "metadata": {
    "colab": {
      "provenance": []
    },
    "kernelspec": {
      "name": "python3",
      "display_name": "Python 3"
    },
    "language_info": {
      "name": "python"
    }
  },
  "cells": [
    {
      "cell_type": "markdown",
      "source": [
        "# Estudo do Problema da Mochila\n",
        "### Autor: José Brito\n",
        "\n",
        "O dataset utilizado neste estudo foi criado por mim como parte de um cenário de jogo de RPG, onde o objetivo é decidir quais itens um personagem deve carregar em sua mochila (que suporta `10kg`)para maximizar o valor total dos objetos, sem ultrapassar o limite de peso. Cada item representa um tesouro ou item raro que pode ser encontrado durante a aventura, e o desafio é escolher quais itens levar, considerando o peso e o valor de cada um.\n",
        "\n",
        "As colunas do dataset são as seguintes:\n",
        "- **Item**: Nome do objeto ou tesouro encontrado durante a caça ao tesouro.\n",
        "- **Peso (kg)**: O peso de cada item, expresso em quilogramas.\n",
        "- **Valor ($)**: O valor monetário de cada item, expresso em dólares.\n",
        "- **Descrição**: Uma breve descrição sobre o item, explicando sua importância ou raridade.\n",
        "\n",
        "Aqui está o dataset que será utilizado:\n",
        "\n",
        "| Item               | Peso (kg) | Valor ($) | Descrição                                                           |\n",
        "|--------------------|-----------|-----------|---------------------------------------------------------------------|\n",
        "| Moeda Antiga       | 1         | 300       | Moeda de ouro rara, valiosa para colecionadores.                    |\n",
        "| Diamante           | 2         | 1500      | Pedra preciosa encontrada em um baú misterioso.                     |\n",
        "| Barra de Ouro      | 5         | 2500      | Barra de ouro puro, mas muito pesada.                               |\n",
        "| Colar de Prata     | 1.5       | 800       | Colar de prata decorado com pedras preciosas.                       |\n",
        "| Poção Mágica       | 3         | 1200      | Poção mágica de valor inestimável para alquimistas.                 |\n",
        "| Livro Antigo       | 2.5       | 500       | Livro antigo contendo segredos perdidos da civilização.             |\n",
        "| Coroa              | 4         | 2200      | Coroa real incrustada com rubis e safiras.                          |\n",
        "| Estátua de Jade    | 6         | 2800      | Estatueta de jade sagrado, venerada por povos antigos.              |\n",
        "| Anel de Safira     | 0.5       | 900       | Anel de safira que pertencia a um rei lendário.                     |\n",
        "| Mapa do Tesouro    | 1         | 1100      | Mapa que leva a um tesouro escondido, valioso para caçadores.       |\n"
      ],
      "metadata": {
        "id": "5TxzqonzlX4_"
      }
    },
    {
      "cell_type": "code",
      "execution_count": null,
      "metadata": {
        "colab": {
          "base_uri": "https://localhost:8080/"
        },
        "id": "j6wZtpbLkNfk",
        "outputId": "df36f38a-46cf-407f-e4de-47f73f8992c8"
      },
      "outputs": [
        {
          "output_type": "stream",
          "name": "stdout",
          "text": [
            "Using default Community Edition License for Colab. Get yours at: https://ampl.com/ce\n",
            "Licensed to AMPL Community Edition License for the AMPL Model Colaboratory (https://ampl.com/colab).\n"
          ]
        }
      ],
      "source": [
        "# Instalando as dependências\n",
        "%pip install -q amplpy\n",
        "\n",
        "from amplpy import AMPL, ampl_notebook\n",
        "\n",
        "ampl = ampl_notebook(\n",
        "    modules=[\"coin\"],\n",
        "    license_uuid=\"default\",\n",
        ")"
      ]
    },
    {
      "cell_type": "markdown",
      "source": [
        "### Explicação do Modelo\n",
        "\n",
        "O objetivo deste modelo é maximizar o valor total dos itens que um personagem pode carregar na mochila, respeitando o limite de peso. A função objetivo é dada por:\n",
        "\n",
        "$$\n",
        "\\text{Maximizar valor_total} = \\sum_{i \\in \\text{itens}} \\text{valor}[i] \\times \\text{incluir}[i]\n",
        "$$\n",
        "\n",
        "Onde:\n",
        "- **valor[i]** é o valor monetário do item \\(i\\).\n",
        "- **incluir[i]** é uma variável binária que indica se o item \\(i\\) será incluído na mochila (1) ou não (0).\n",
        "\n",
        "As restrições garantem que o peso total dos itens selecionados não ultrapasse a capacidade máxima da mochila:\n",
        "\n",
        "$$\n",
        "\\sum_{i \\in \\text{itens}} \\text{peso}[i] \\times \\text{incluir}[i] \\leq \\text{peso_max}\n",
        "$$\n",
        "\n",
        "Onde:\n",
        "- **peso[i]** é o peso do item \\(i\\).\n",
        "- **peso_max** é o peso máximo que a mochila pode carregar.\n",
        "\n",
        "Este modelo é uma versão clássica do problema da mochila, onde buscamos otimizar a escolha de itens para maximizar o valor total sem exceder o limite de peso que é de 10 KG.\n"
      ],
      "metadata": {
        "id": "5zfaW1xZm8GN"
      }
    },
    {
      "cell_type": "code",
      "source": [
        "%%writefile mochila.mod\n",
        "# Definição do conjunto de itens\n",
        "set ITEM;\n",
        "\n",
        "# Parâmetros dos itens\n",
        "param peso{ITEM};     # Peso de cada item (em kg)\n",
        "param valor{ITEM};    # Valor de cada item (em dólares)\n",
        "param peso_max;       # Peso máximo permitido na mochila\n",
        "\n",
        "# Variáveis de decisão\n",
        "var Incluir{j in ITEM} binary;  # 1 se o item for incluído, 0 caso contrário\n",
        "\n",
        "# Função objetivo: maximizar o valor total dos itens na mochila\n",
        "maximize Valor_Total: sum{j in ITEM} valor[j] * Incluir[j];\n",
        "\n",
        "# Restrição de peso: o peso total dos itens selecionados não pode exceder o limite máximo da mochila\n",
        "subject to Peso_Total: sum{j in ITEM} peso[j] * Incluir[j] <= peso_max;\n"
      ],
      "metadata": {
        "colab": {
          "base_uri": "https://localhost:8080/"
        },
        "id": "Crytsi2jnUwl",
        "outputId": "ce9e3484-6cae-4c80-a64a-2f8a72bf53a3"
      },
      "execution_count": null,
      "outputs": [
        {
          "output_type": "stream",
          "name": "stdout",
          "text": [
            "Writing mochila.mod\n"
          ]
        }
      ]
    },
    {
      "cell_type": "code",
      "source": [
        "%%writefile mochila.dat\n",
        "# Definição do conjunto de itens\n",
        "set ITEM := Moeda_Antiga Diamante Barra_de_Ouro Colar_de_Prata Pocao_Magica Livro_Antigo Coroa Estatua_de_Jade Anel_de_Safira Mapa_do_Tesouro;\n",
        "\n",
        "# Parâmetros dos itens\n",
        "param peso :=\n",
        "Moeda_Antiga      1\n",
        "Diamante          2\n",
        "Barra_de_Ouro     5\n",
        "Colar_de_Prata    1.5\n",
        "Pocao_Magica      3\n",
        "Livro_Antigo      2.5\n",
        "Coroa             4\n",
        "Estatua_de_Jade   6\n",
        "Anel_de_Safira    0.5\n",
        "Mapa_do_Tesouro   1;\n",
        "\n",
        "param valor :=\n",
        "Moeda_Antiga      300\n",
        "Diamante          1500\n",
        "Barra_de_Ouro     2500\n",
        "Colar_de_Prata    800\n",
        "Pocao_Magica      1200\n",
        "Livro_Antigo      500\n",
        "Coroa             2200\n",
        "Estatua_de_Jade   2800\n",
        "Anel_de_Safira    900\n",
        "Mapa_do_Tesouro   1100;\n",
        "\n",
        "# Peso máximo da mochila\n",
        "param peso_max := 10;\n"
      ],
      "metadata": {
        "colab": {
          "base_uri": "https://localhost:8080/"
        },
        "id": "iCITH2dvnfqQ",
        "outputId": "4e48b10d-abd3-40d7-fcbc-c31c5f65fd43"
      },
      "execution_count": null,
      "outputs": [
        {
          "output_type": "stream",
          "name": "stdout",
          "text": [
            "Writing mochila.dat\n"
          ]
        }
      ]
    },
    {
      "cell_type": "code",
      "source": [
        "%%ampl_eval\n",
        "reset;\n",
        "model mochila.mod;\n",
        "data mochila.dat;\n",
        "option solver cbc;\n",
        "solve;\n",
        "display Incluir;\n"
      ],
      "metadata": {
        "colab": {
          "base_uri": "https://localhost:8080/"
        },
        "id": "U_HHy30GnsEw",
        "outputId": "d6499fe2-db16-42d7-e270-faad0d5b9e19"
      },
      "execution_count": null,
      "outputs": [
        {
          "output_type": "stream",
          "name": "stdout",
          "text": [
            "cbc 2.10.12: \b\b\b\b\b\b\b\b\b\b\b\b\bcbc 2.10.12: optimal solution; objective 6800\n",
            "0 simplex iterations\n",
            "Incluir [*] :=\n",
            " Anel_de_Safira  1\n",
            "  Barra_de_Ouro  0\n",
            " Colar_de_Prata  1\n",
            "          Coroa  1\n",
            "       Diamante  1\n",
            "Estatua_de_Jade  0\n",
            "   Livro_Antigo  0\n",
            "Mapa_do_Tesouro  1\n",
            "   Moeda_Antiga  1\n",
            "   Pocao_Magica  0\n",
            ";\n",
            "\n"
          ]
        }
      ]
    },
    {
      "cell_type": "markdown",
      "source": [
        "## Análise do Resultado\n",
        "\n",
        "O modelo foi resolvido com sucesso e a solução ótima foi encontrada. O valor total da mochila é **$6800**, o que significa que, ao selecionar os itens de acordo com a solução otimizada, o valor total dos itens na mochila atingiu 6800 dólares.\n",
        "\n",
        "A solução indica quais itens foram incluídos na mochila (valor igual a **1**) e quais não foram (valor igual a **0**). A análise dos itens incluídos na mochila é a seguinte:\n",
        "\n",
        "### Itens Selecionados:\n",
        "1. **Anel de Safira**\n",
        "2. **Colar de Prata**\n",
        "3. **Coroa**\n",
        "4. **Diamante**\n",
        "5. **Mapa do Tesouro**\n",
        "6. **Moeda Antiga**\n",
        "\n",
        "### Itens Não Selecionados:\n",
        "1. **Barra de Ouro**: Apesar de seu valor alto (2500), o peso (5 kg) pode ter sido um fator limitante.\n",
        "2. **Estátua de Jade**: Seu valor é 2800, mas tem um peso de 6 kg, o que provavelmente excederia o limite de peso da mochila.\n",
        "3. **Livro Antigo**: Seu valor é 500 e peso de 2.5 kg, mas a solução preferiu incluir outros itens de maior valor.\n",
        "4. **Poção Mágica**: Apesar de seu valor de 1200, seu peso (3 kg) pode ter sido desvantajoso quando comparado aos outros itens selecionados.\n",
        "\n",
        "### Peso Total:\n",
        "A solução seleciona itens cujo peso total é \\( 0.5 + 1.5 + 4 + 2 + 1 = 9 \\) kg, que está abaixo do limite de peso máximo da mochila de **10 kg**.\n",
        "\n",
        "### **Conclusão**:\n",
        "A solução otimizada conseguiu maximizar o valor da mochila selecionando itens de alto valor e com pesos que se ajustam ao limite de 10 kg. A escolha de itens como o **Diamante**, a **Coroa** e o **Mapa do Tesouro** contribuiu significativamente para o valor total da solução. Além disso, a **Estátua de Jade** e a **Barra de Ouro** foram deixadas de fora devido ao seu alto peso em relação ao valor, o que demonstra a eficiência do modelo na escolha dos itens mais vantajosos.\n"
      ],
      "metadata": {
        "id": "9SbjhsqupF9F"
      }
    }
  ]
}